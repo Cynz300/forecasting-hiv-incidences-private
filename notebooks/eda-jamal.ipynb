{
 "metadata": {
  "language_info": {
   "codemirror_mode": {
    "name": "ipython",
    "version": 3
   },
   "file_extension": ".py",
   "mimetype": "text/x-python",
   "name": "python",
   "nbconvert_exporter": "python",
   "pygments_lexer": "ipython3",
   "version": "3.8.10"
  },
  "orig_nbformat": 4,
  "kernelspec": {
   "name": "python3",
   "display_name": "Python 3.8.10 64-bit ('base': conda)"
  },
  "interpreter": {
   "hash": "5f11fdeaa5c7a19bba2e31add5ed9cf74452ba16791fb08424db0b4f84129e35"
  }
 },
 "nbformat": 4,
 "nbformat_minor": 2,
 "cells": [
  {
   "source": [
    "# HIV Data EDA"
   ],
   "cell_type": "markdown",
   "metadata": {}
  },
  {
   "cell_type": "code",
   "execution_count": 1,
   "metadata": {},
   "outputs": [],
   "source": [
    "import pandas as pd"
   ]
  },
  {
   "cell_type": "code",
   "execution_count": 4,
   "metadata": {},
   "outputs": [
    {
     "output_type": "execute_result",
     "data": {
      "text/plain": [
       "   county_code          COUNTY STATEABBREVIATION  YEAR  AMAT_fac  \\\n",
       "0         1001  Autauga County                AL  2015       0.0   \n",
       "1         1003  Baldwin County                AL  2015       0.0   \n",
       "2         1005  Barbour County                AL  2015       0.0   \n",
       "3         1007     Bibb County                AL  2015       0.0   \n",
       "4         1009   Blount County                AL  2015       0.0   \n",
       "\n",
       "   HIVdiagnoses  HIVincidence  HIVprevalence  MH_fac  Med_AMAT_fac  ...  \\\n",
       "0           5.0          10.9          225.5     1.0           0.0  ...   \n",
       "1          15.0           8.7          163.9     4.0           0.0  ...   \n",
       "2           0.0           0.0          436.0     1.0           0.0  ...   \n",
       "3           0.0           0.0          191.9     0.0           0.0  ...   \n",
       "4           5.0          10.4           95.4     1.0           0.0  ...   \n",
       "\n",
       "   pctunmetneed  nonmedpain  ADULTMEN  MSM12MTH  MSM5YEAR  %msm12month  \\\n",
       "0         95.70        5.12     19410       333       514     1.715611   \n",
       "1         91.34        5.27     69724       925      1429     1.326659   \n",
       "2         91.34        5.27     11567        82       127     0.708913   \n",
       "3         91.86        5.62      9508       119       184     1.251578   \n",
       "4         91.86        5.62     21368       601       928     2.812617   \n",
       "\n",
       "    %msm5yr  unemployment_rate  poverty_rate  household_income  \n",
       "0  2.648120                8.5          12.8             20304  \n",
       "1  2.049509                8.6          13.8             73058  \n",
       "2  1.097951               14.2          24.1              9145  \n",
       "3  1.935212               10.9          17.0              7078  \n",
       "4  4.342943                9.3          17.3             20934  \n",
       "\n",
       "[5 rows x 38 columns]"
      ],
      "text/html": "<div>\n<style scoped>\n    .dataframe tbody tr th:only-of-type {\n        vertical-align: middle;\n    }\n\n    .dataframe tbody tr th {\n        vertical-align: top;\n    }\n\n    .dataframe thead th {\n        text-align: right;\n    }\n</style>\n<table border=\"1\" class=\"dataframe\">\n  <thead>\n    <tr style=\"text-align: right;\">\n      <th></th>\n      <th>county_code</th>\n      <th>COUNTY</th>\n      <th>STATEABBREVIATION</th>\n      <th>YEAR</th>\n      <th>AMAT_fac</th>\n      <th>HIVdiagnoses</th>\n      <th>HIVincidence</th>\n      <th>HIVprevalence</th>\n      <th>MH_fac</th>\n      <th>Med_AMAT_fac</th>\n      <th>...</th>\n      <th>pctunmetneed</th>\n      <th>nonmedpain</th>\n      <th>ADULTMEN</th>\n      <th>MSM12MTH</th>\n      <th>MSM5YEAR</th>\n      <th>%msm12month</th>\n      <th>%msm5yr</th>\n      <th>unemployment_rate</th>\n      <th>poverty_rate</th>\n      <th>household_income</th>\n    </tr>\n  </thead>\n  <tbody>\n    <tr>\n      <th>0</th>\n      <td>1001</td>\n      <td>Autauga County</td>\n      <td>AL</td>\n      <td>2015</td>\n      <td>0.0</td>\n      <td>5.0</td>\n      <td>10.9</td>\n      <td>225.5</td>\n      <td>1.0</td>\n      <td>0.0</td>\n      <td>...</td>\n      <td>95.70</td>\n      <td>5.12</td>\n      <td>19410</td>\n      <td>333</td>\n      <td>514</td>\n      <td>1.715611</td>\n      <td>2.648120</td>\n      <td>8.5</td>\n      <td>12.8</td>\n      <td>20304</td>\n    </tr>\n    <tr>\n      <th>1</th>\n      <td>1003</td>\n      <td>Baldwin County</td>\n      <td>AL</td>\n      <td>2015</td>\n      <td>0.0</td>\n      <td>15.0</td>\n      <td>8.7</td>\n      <td>163.9</td>\n      <td>4.0</td>\n      <td>0.0</td>\n      <td>...</td>\n      <td>91.34</td>\n      <td>5.27</td>\n      <td>69724</td>\n      <td>925</td>\n      <td>1429</td>\n      <td>1.326659</td>\n      <td>2.049509</td>\n      <td>8.6</td>\n      <td>13.8</td>\n      <td>73058</td>\n    </tr>\n    <tr>\n      <th>2</th>\n      <td>1005</td>\n      <td>Barbour County</td>\n      <td>AL</td>\n      <td>2015</td>\n      <td>0.0</td>\n      <td>0.0</td>\n      <td>0.0</td>\n      <td>436.0</td>\n      <td>1.0</td>\n      <td>0.0</td>\n      <td>...</td>\n      <td>91.34</td>\n      <td>5.27</td>\n      <td>11567</td>\n      <td>82</td>\n      <td>127</td>\n      <td>0.708913</td>\n      <td>1.097951</td>\n      <td>14.2</td>\n      <td>24.1</td>\n      <td>9145</td>\n    </tr>\n    <tr>\n      <th>3</th>\n      <td>1007</td>\n      <td>Bibb County</td>\n      <td>AL</td>\n      <td>2015</td>\n      <td>0.0</td>\n      <td>0.0</td>\n      <td>0.0</td>\n      <td>191.9</td>\n      <td>0.0</td>\n      <td>0.0</td>\n      <td>...</td>\n      <td>91.86</td>\n      <td>5.62</td>\n      <td>9508</td>\n      <td>119</td>\n      <td>184</td>\n      <td>1.251578</td>\n      <td>1.935212</td>\n      <td>10.9</td>\n      <td>17.0</td>\n      <td>7078</td>\n    </tr>\n    <tr>\n      <th>4</th>\n      <td>1009</td>\n      <td>Blount County</td>\n      <td>AL</td>\n      <td>2015</td>\n      <td>0.0</td>\n      <td>5.0</td>\n      <td>10.4</td>\n      <td>95.4</td>\n      <td>1.0</td>\n      <td>0.0</td>\n      <td>...</td>\n      <td>91.86</td>\n      <td>5.62</td>\n      <td>21368</td>\n      <td>601</td>\n      <td>928</td>\n      <td>2.812617</td>\n      <td>4.342943</td>\n      <td>9.3</td>\n      <td>17.3</td>\n      <td>20934</td>\n    </tr>\n  </tbody>\n</table>\n<p>5 rows × 38 columns</p>\n</div>"
     },
     "metadata": {},
     "execution_count": 4
    }
   ],
   "source": [
    "df = pd.read_csv('../data/merged_data.csv', index_col=0)\n",
    "df.head(5)"
   ]
  },
  {
   "cell_type": "code",
   "execution_count": 6,
   "metadata": {},
   "outputs": [
    {
     "output_type": "stream",
     "name": "stdout",
     "text": [
      "<class 'pandas.core.frame.DataFrame'>\nInt64Index: 3140 entries, 0 to 3139\nData columns (total 38 columns):\n #   Column             Non-Null Count  Dtype  \n---  ------             --------------  -----  \n 0   county_code        3140 non-null   int64  \n 1   COUNTY             3140 non-null   object \n 2   STATEABBREVIATION  3140 non-null   object \n 3   YEAR               3140 non-null   int64  \n 4   AMAT_fac           3140 non-null   float64\n 5   HIVdiagnoses       3140 non-null   float64\n 6   HIVincidence       3140 non-null   float64\n 7   HIVprevalence      3140 non-null   float64\n 8   MH_fac             3140 non-null   float64\n 9   Med_AMAT_fac       3140 non-null   float64\n 10  Med_MH_fac         3140 non-null   float64\n 11  Med_SA_fac         3140 non-null   float64\n 12  Med_SMAT_fac       3140 non-null   float64\n 13  Med_TMAT_fac       3140 non-null   float64\n 14  PLHIV              3140 non-null   float64\n 15  Population         3140 non-null   float64\n 16  SA_fac             3140 non-null   float64\n 17  SMAT_fac           3140 non-null   float64\n 18  TMAT_fac           3140 non-null   float64\n 19  drugdeathrate      3140 non-null   float64\n 20  drugdeathrate_est  3140 non-null   float64\n 21  drugdeaths         3140 non-null   float64\n 22  mme_percap         2963 non-null   float64\n 23  partD30dayrxrate   3046 non-null   float64\n 24  pctunins           3140 non-null   float64\n 25  num_SSPs           3140 non-null   float64\n 26  bup_phys           3140 non-null   float64\n 27  drugdep            3139 non-null   float64\n 28  pctunmetneed       3139 non-null   float64\n 29  nonmedpain         3139 non-null   float64\n 30  ADULTMEN           3140 non-null   int64  \n 31  MSM12MTH           3140 non-null   int64  \n 32  MSM5YEAR           3140 non-null   int64  \n 33  %msm12month        3140 non-null   float64\n 34  %msm5yr            3140 non-null   float64\n 35  unemployment_rate  3140 non-null   float64\n 36  poverty_rate       3140 non-null   float64\n 37  household_income   3140 non-null   int64  \ndtypes: float64(30), int64(6), object(2)\nmemory usage: 1021.3+ KB\n"
     ]
    }
   ],
   "source": [
    "df.info()"
   ]
  },
  {
   "cell_type": "code",
   "execution_count": 5,
   "metadata": {},
   "outputs": [
    {
     "output_type": "execute_result",
     "data": {
      "text/plain": [
       "        county_code    YEAR     AMAT_fac  HIVdiagnoses  HIVincidence  \\\n",
       "count   3140.000000  3140.0  3140.000000   3140.000000   3140.000000   \n",
       "mean   30387.632484  2015.0     0.085669     11.879936      4.046911   \n",
       "std    15156.372045     0.0     0.450816     69.947292     16.575690   \n",
       "min     1001.000000  2015.0     0.000000      0.000000      0.000000   \n",
       "25%    18178.500000  2015.0     0.000000      0.000000      0.000000   \n",
       "50%    29176.000000  2015.0     0.000000      0.000000      0.000000   \n",
       "75%    45079.500000  2015.0     0.000000      0.000000      0.000000   \n",
       "max    56045.000000  2015.0     8.000000   1972.000000    771.400000   \n",
       "\n",
       "       HIVprevalence       MH_fac  Med_AMAT_fac   Med_MH_fac   Med_SA_fac  \\\n",
       "count    3140.000000  3140.000000   3140.000000  3140.000000  3140.000000   \n",
       "mean      145.400446     3.290127      0.058917     2.934395     2.260191   \n",
       "std       198.488980     8.591740      0.369298     7.401998     6.050821   \n",
       "min         0.000000     0.000000      0.000000     0.000000     0.000000   \n",
       "25%        32.950000     0.000000      0.000000     0.000000     0.000000   \n",
       "50%        89.000000     1.000000      0.000000     1.000000     1.000000   \n",
       "75%       183.775000     3.000000      0.000000     3.000000     2.000000   \n",
       "max      2590.200000   192.000000      5.000000   133.000000   125.000000   \n",
       "\n",
       "       ...  pctunmetneed   nonmedpain      ADULTMEN       MSM12MTH  \\\n",
       "count  ...   3139.000000  3139.000000  3.140000e+03    3140.000000   \n",
       "mean   ...     88.709994     4.313600  3.676915e+04     927.681210   \n",
       "std    ...      3.226578     0.582708  1.164119e+05    4858.792046   \n",
       "min    ...     77.020000     2.950000  3.400000e+01       0.000000   \n",
       "25%    ...     86.480000     3.880000  4.269000e+03      34.000000   \n",
       "50%    ...     88.790000     4.320000  9.877500e+03     103.500000   \n",
       "75%    ...     90.830000     4.700000  2.533775e+04     351.250000   \n",
       "max    ...    100.000000     5.890000  3.666190e+06  162706.000000   \n",
       "\n",
       "            MSM5YEAR  %msm12month      %msm5yr  unemployment_rate  \\\n",
       "count    3140.000000  3140.000000  3140.000000        3140.000000   \n",
       "mean     1434.076752     1.294020     1.999905           8.552643   \n",
       "std      7511.042900     1.011416     1.564130           3.746800   \n",
       "min         0.000000     0.000000     0.000000           0.000000   \n",
       "25%        52.000000     0.560790     0.859203           6.100000   \n",
       "50%       160.000000     1.021160     1.579628           8.300000   \n",
       "75%       543.000000     1.614168     2.491817          10.700000   \n",
       "max    251521.000000    15.166163    23.444109          29.600000   \n",
       "\n",
       "       poverty_rate  household_income  \n",
       "count   3140.000000      3.140000e+03  \n",
       "mean      16.792452      3.700843e+04  \n",
       "std        6.487101      1.119425e+05  \n",
       "min        1.000000      3.300000e+01  \n",
       "25%       12.100000      4.230000e+03  \n",
       "50%       16.000000      9.793500e+03  \n",
       "75%       20.300000      2.565975e+04  \n",
       "max       47.900000      3.242391e+06  \n",
       "\n",
       "[8 rows x 36 columns]"
      ],
      "text/html": "<div>\n<style scoped>\n    .dataframe tbody tr th:only-of-type {\n        vertical-align: middle;\n    }\n\n    .dataframe tbody tr th {\n        vertical-align: top;\n    }\n\n    .dataframe thead th {\n        text-align: right;\n    }\n</style>\n<table border=\"1\" class=\"dataframe\">\n  <thead>\n    <tr style=\"text-align: right;\">\n      <th></th>\n      <th>county_code</th>\n      <th>YEAR</th>\n      <th>AMAT_fac</th>\n      <th>HIVdiagnoses</th>\n      <th>HIVincidence</th>\n      <th>HIVprevalence</th>\n      <th>MH_fac</th>\n      <th>Med_AMAT_fac</th>\n      <th>Med_MH_fac</th>\n      <th>Med_SA_fac</th>\n      <th>...</th>\n      <th>pctunmetneed</th>\n      <th>nonmedpain</th>\n      <th>ADULTMEN</th>\n      <th>MSM12MTH</th>\n      <th>MSM5YEAR</th>\n      <th>%msm12month</th>\n      <th>%msm5yr</th>\n      <th>unemployment_rate</th>\n      <th>poverty_rate</th>\n      <th>household_income</th>\n    </tr>\n  </thead>\n  <tbody>\n    <tr>\n      <th>count</th>\n      <td>3140.000000</td>\n      <td>3140.0</td>\n      <td>3140.000000</td>\n      <td>3140.000000</td>\n      <td>3140.000000</td>\n      <td>3140.000000</td>\n      <td>3140.000000</td>\n      <td>3140.000000</td>\n      <td>3140.000000</td>\n      <td>3140.000000</td>\n      <td>...</td>\n      <td>3139.000000</td>\n      <td>3139.000000</td>\n      <td>3.140000e+03</td>\n      <td>3140.000000</td>\n      <td>3140.000000</td>\n      <td>3140.000000</td>\n      <td>3140.000000</td>\n      <td>3140.000000</td>\n      <td>3140.000000</td>\n      <td>3.140000e+03</td>\n    </tr>\n    <tr>\n      <th>mean</th>\n      <td>30387.632484</td>\n      <td>2015.0</td>\n      <td>0.085669</td>\n      <td>11.879936</td>\n      <td>4.046911</td>\n      <td>145.400446</td>\n      <td>3.290127</td>\n      <td>0.058917</td>\n      <td>2.934395</td>\n      <td>2.260191</td>\n      <td>...</td>\n      <td>88.709994</td>\n      <td>4.313600</td>\n      <td>3.676915e+04</td>\n      <td>927.681210</td>\n      <td>1434.076752</td>\n      <td>1.294020</td>\n      <td>1.999905</td>\n      <td>8.552643</td>\n      <td>16.792452</td>\n      <td>3.700843e+04</td>\n    </tr>\n    <tr>\n      <th>std</th>\n      <td>15156.372045</td>\n      <td>0.0</td>\n      <td>0.450816</td>\n      <td>69.947292</td>\n      <td>16.575690</td>\n      <td>198.488980</td>\n      <td>8.591740</td>\n      <td>0.369298</td>\n      <td>7.401998</td>\n      <td>6.050821</td>\n      <td>...</td>\n      <td>3.226578</td>\n      <td>0.582708</td>\n      <td>1.164119e+05</td>\n      <td>4858.792046</td>\n      <td>7511.042900</td>\n      <td>1.011416</td>\n      <td>1.564130</td>\n      <td>3.746800</td>\n      <td>6.487101</td>\n      <td>1.119425e+05</td>\n    </tr>\n    <tr>\n      <th>min</th>\n      <td>1001.000000</td>\n      <td>2015.0</td>\n      <td>0.000000</td>\n      <td>0.000000</td>\n      <td>0.000000</td>\n      <td>0.000000</td>\n      <td>0.000000</td>\n      <td>0.000000</td>\n      <td>0.000000</td>\n      <td>0.000000</td>\n      <td>...</td>\n      <td>77.020000</td>\n      <td>2.950000</td>\n      <td>3.400000e+01</td>\n      <td>0.000000</td>\n      <td>0.000000</td>\n      <td>0.000000</td>\n      <td>0.000000</td>\n      <td>0.000000</td>\n      <td>1.000000</td>\n      <td>3.300000e+01</td>\n    </tr>\n    <tr>\n      <th>25%</th>\n      <td>18178.500000</td>\n      <td>2015.0</td>\n      <td>0.000000</td>\n      <td>0.000000</td>\n      <td>0.000000</td>\n      <td>32.950000</td>\n      <td>0.000000</td>\n      <td>0.000000</td>\n      <td>0.000000</td>\n      <td>0.000000</td>\n      <td>...</td>\n      <td>86.480000</td>\n      <td>3.880000</td>\n      <td>4.269000e+03</td>\n      <td>34.000000</td>\n      <td>52.000000</td>\n      <td>0.560790</td>\n      <td>0.859203</td>\n      <td>6.100000</td>\n      <td>12.100000</td>\n      <td>4.230000e+03</td>\n    </tr>\n    <tr>\n      <th>50%</th>\n      <td>29176.000000</td>\n      <td>2015.0</td>\n      <td>0.000000</td>\n      <td>0.000000</td>\n      <td>0.000000</td>\n      <td>89.000000</td>\n      <td>1.000000</td>\n      <td>0.000000</td>\n      <td>1.000000</td>\n      <td>1.000000</td>\n      <td>...</td>\n      <td>88.790000</td>\n      <td>4.320000</td>\n      <td>9.877500e+03</td>\n      <td>103.500000</td>\n      <td>160.000000</td>\n      <td>1.021160</td>\n      <td>1.579628</td>\n      <td>8.300000</td>\n      <td>16.000000</td>\n      <td>9.793500e+03</td>\n    </tr>\n    <tr>\n      <th>75%</th>\n      <td>45079.500000</td>\n      <td>2015.0</td>\n      <td>0.000000</td>\n      <td>0.000000</td>\n      <td>0.000000</td>\n      <td>183.775000</td>\n      <td>3.000000</td>\n      <td>0.000000</td>\n      <td>3.000000</td>\n      <td>2.000000</td>\n      <td>...</td>\n      <td>90.830000</td>\n      <td>4.700000</td>\n      <td>2.533775e+04</td>\n      <td>351.250000</td>\n      <td>543.000000</td>\n      <td>1.614168</td>\n      <td>2.491817</td>\n      <td>10.700000</td>\n      <td>20.300000</td>\n      <td>2.565975e+04</td>\n    </tr>\n    <tr>\n      <th>max</th>\n      <td>56045.000000</td>\n      <td>2015.0</td>\n      <td>8.000000</td>\n      <td>1972.000000</td>\n      <td>771.400000</td>\n      <td>2590.200000</td>\n      <td>192.000000</td>\n      <td>5.000000</td>\n      <td>133.000000</td>\n      <td>125.000000</td>\n      <td>...</td>\n      <td>100.000000</td>\n      <td>5.890000</td>\n      <td>3.666190e+06</td>\n      <td>162706.000000</td>\n      <td>251521.000000</td>\n      <td>15.166163</td>\n      <td>23.444109</td>\n      <td>29.600000</td>\n      <td>47.900000</td>\n      <td>3.242391e+06</td>\n    </tr>\n  </tbody>\n</table>\n<p>8 rows × 36 columns</p>\n</div>"
     },
     "metadata": {},
     "execution_count": 5
    }
   ],
   "source": [
    "df.describe()"
   ]
  },
  {
   "cell_type": "code",
   "execution_count": null,
   "metadata": {},
   "outputs": [],
   "source": []
  },
  {
   "cell_type": "code",
   "execution_count": null,
   "metadata": {},
   "outputs": [],
   "source": []
  }
 ]
}