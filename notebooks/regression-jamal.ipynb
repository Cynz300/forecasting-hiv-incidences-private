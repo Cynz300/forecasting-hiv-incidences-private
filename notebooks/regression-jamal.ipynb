{
 "metadata": {
  "language_info": {
   "codemirror_mode": {
    "name": "ipython",
    "version": 3
   },
   "file_extension": ".py",
   "mimetype": "text/x-python",
   "name": "python",
   "nbconvert_exporter": "python",
   "pygments_lexer": "ipython3",
   "version": "3.8.10"
  },
  "orig_nbformat": 4,
  "kernelspec": {
   "name": "python3",
   "display_name": "Python 3.8.10 64-bit ('base': conda)"
  },
  "interpreter": {
   "hash": "5f11fdeaa5c7a19bba2e31add5ed9cf74452ba16791fb08424db0b4f84129e35"
  }
 },
 "nbformat": 4,
 "nbformat_minor": 2,
 "cells": [
  {
   "source": [
    "# HIV Prediction Linear Regression"
   ],
   "cell_type": "markdown",
   "metadata": {}
  },
  {
   "cell_type": "code",
   "execution_count": 18,
   "metadata": {},
   "outputs": [],
   "source": [
    "import pandas as pd"
   ]
  },
  {
   "cell_type": "code",
   "execution_count": 19,
   "metadata": {},
   "outputs": [
    {
     "output_type": "execute_result",
     "data": {
      "text/plain": [
       "   HIVincidence  HIVprevalence  %msm12month  drugdep  unemployment_rate  \\\n",
       "0          10.9          225.5     1.715611     2.56                8.5   \n",
       "1           8.7          163.9     1.326659     2.54                8.6   \n",
       "2           0.0          436.0     0.708913     2.54               14.2   \n",
       "3           0.0          191.9     1.251578     2.58               10.9   \n",
       "4          10.4           95.4     2.812617     2.58                9.3   \n",
       "\n",
       "   household_income  \n",
       "0             20304  \n",
       "1             73058  \n",
       "2              9145  \n",
       "3              7078  \n",
       "4             20934  "
      ],
      "text/html": "<div>\n<style scoped>\n    .dataframe tbody tr th:only-of-type {\n        vertical-align: middle;\n    }\n\n    .dataframe tbody tr th {\n        vertical-align: top;\n    }\n\n    .dataframe thead th {\n        text-align: right;\n    }\n</style>\n<table border=\"1\" class=\"dataframe\">\n  <thead>\n    <tr style=\"text-align: right;\">\n      <th></th>\n      <th>HIVincidence</th>\n      <th>HIVprevalence</th>\n      <th>%msm12month</th>\n      <th>drugdep</th>\n      <th>unemployment_rate</th>\n      <th>household_income</th>\n    </tr>\n  </thead>\n  <tbody>\n    <tr>\n      <th>0</th>\n      <td>10.9</td>\n      <td>225.5</td>\n      <td>1.715611</td>\n      <td>2.56</td>\n      <td>8.5</td>\n      <td>20304</td>\n    </tr>\n    <tr>\n      <th>1</th>\n      <td>8.7</td>\n      <td>163.9</td>\n      <td>1.326659</td>\n      <td>2.54</td>\n      <td>8.6</td>\n      <td>73058</td>\n    </tr>\n    <tr>\n      <th>2</th>\n      <td>0.0</td>\n      <td>436.0</td>\n      <td>0.708913</td>\n      <td>2.54</td>\n      <td>14.2</td>\n      <td>9145</td>\n    </tr>\n    <tr>\n      <th>3</th>\n      <td>0.0</td>\n      <td>191.9</td>\n      <td>1.251578</td>\n      <td>2.58</td>\n      <td>10.9</td>\n      <td>7078</td>\n    </tr>\n    <tr>\n      <th>4</th>\n      <td>10.4</td>\n      <td>95.4</td>\n      <td>2.812617</td>\n      <td>2.58</td>\n      <td>9.3</td>\n      <td>20934</td>\n    </tr>\n  </tbody>\n</table>\n</div>"
     },
     "metadata": {},
     "execution_count": 19
    }
   ],
   "source": [
    "df = pd.read_csv('./../data/eda_init.csv', index_col=0)\n",
    "df.head()"
   ]
  },
  {
   "cell_type": "code",
   "execution_count": 20,
   "metadata": {},
   "outputs": [
    {
     "output_type": "stream",
     "name": "stdout",
     "text": [
      "<class 'pandas.core.frame.DataFrame'>\nInt64Index: 3140 entries, 0 to 3139\nData columns (total 6 columns):\n #   Column             Non-Null Count  Dtype  \n---  ------             --------------  -----  \n 0   HIVincidence       3140 non-null   float64\n 1   HIVprevalence      3140 non-null   float64\n 2   %msm12month        3140 non-null   float64\n 3   drugdep            3139 non-null   float64\n 4   unemployment_rate  3140 non-null   float64\n 5   household_income   3140 non-null   int64  \ndtypes: float64(5), int64(1)\nmemory usage: 171.7 KB\n"
     ]
    }
   ],
   "source": [
    "df.info()"
   ]
  },
  {
   "cell_type": "code",
   "execution_count": 21,
   "metadata": {},
   "outputs": [
    {
     "output_type": "execute_result",
     "data": {
      "text/plain": [
       "     HIVincidence  HIVprevalence  %msm12month  drugdep  unemployment_rate  \\\n",
       "547           0.0            0.0          0.0      NaN                0.0   \n",
       "\n",
       "     household_income  \n",
       "547                46  "
      ],
      "text/html": "<div>\n<style scoped>\n    .dataframe tbody tr th:only-of-type {\n        vertical-align: middle;\n    }\n\n    .dataframe tbody tr th {\n        vertical-align: top;\n    }\n\n    .dataframe thead th {\n        text-align: right;\n    }\n</style>\n<table border=\"1\" class=\"dataframe\">\n  <thead>\n    <tr style=\"text-align: right;\">\n      <th></th>\n      <th>HIVincidence</th>\n      <th>HIVprevalence</th>\n      <th>%msm12month</th>\n      <th>drugdep</th>\n      <th>unemployment_rate</th>\n      <th>household_income</th>\n    </tr>\n  </thead>\n  <tbody>\n    <tr>\n      <th>547</th>\n      <td>0.0</td>\n      <td>0.0</td>\n      <td>0.0</td>\n      <td>NaN</td>\n      <td>0.0</td>\n      <td>46</td>\n    </tr>\n  </tbody>\n</table>\n</div>"
     },
     "metadata": {},
     "execution_count": 21
    }
   ],
   "source": [
    "df.loc[df.isna().any(axis=1), :]"
   ]
  },
  {
   "cell_type": "code",
   "execution_count": 22,
   "metadata": {},
   "outputs": [
    {
     "output_type": "execute_result",
     "data": {
      "text/plain": [
       "   HIVincidence  HIVprevalence  %msm12month  drugdep  unemployment_rate  \\\n",
       "0          10.9          225.5     1.715611     2.56                8.5   \n",
       "1           8.7          163.9     1.326659     2.54                8.6   \n",
       "2           0.0          436.0     0.708913     2.54               14.2   \n",
       "3           0.0          191.9     1.251578     2.58               10.9   \n",
       "4          10.4           95.4     2.812617     2.58                9.3   \n",
       "\n",
       "   household_income  \n",
       "0             20304  \n",
       "1             73058  \n",
       "2              9145  \n",
       "3              7078  \n",
       "4             20934  "
      ],
      "text/html": "<div>\n<style scoped>\n    .dataframe tbody tr th:only-of-type {\n        vertical-align: middle;\n    }\n\n    .dataframe tbody tr th {\n        vertical-align: top;\n    }\n\n    .dataframe thead th {\n        text-align: right;\n    }\n</style>\n<table border=\"1\" class=\"dataframe\">\n  <thead>\n    <tr style=\"text-align: right;\">\n      <th></th>\n      <th>HIVincidence</th>\n      <th>HIVprevalence</th>\n      <th>%msm12month</th>\n      <th>drugdep</th>\n      <th>unemployment_rate</th>\n      <th>household_income</th>\n    </tr>\n  </thead>\n  <tbody>\n    <tr>\n      <th>0</th>\n      <td>10.9</td>\n      <td>225.5</td>\n      <td>1.715611</td>\n      <td>2.56</td>\n      <td>8.5</td>\n      <td>20304</td>\n    </tr>\n    <tr>\n      <th>1</th>\n      <td>8.7</td>\n      <td>163.9</td>\n      <td>1.326659</td>\n      <td>2.54</td>\n      <td>8.6</td>\n      <td>73058</td>\n    </tr>\n    <tr>\n      <th>2</th>\n      <td>0.0</td>\n      <td>436.0</td>\n      <td>0.708913</td>\n      <td>2.54</td>\n      <td>14.2</td>\n      <td>9145</td>\n    </tr>\n    <tr>\n      <th>3</th>\n      <td>0.0</td>\n      <td>191.9</td>\n      <td>1.251578</td>\n      <td>2.58</td>\n      <td>10.9</td>\n      <td>7078</td>\n    </tr>\n    <tr>\n      <th>4</th>\n      <td>10.4</td>\n      <td>95.4</td>\n      <td>2.812617</td>\n      <td>2.58</td>\n      <td>9.3</td>\n      <td>20934</td>\n    </tr>\n  </tbody>\n</table>\n</div>"
     },
     "metadata": {},
     "execution_count": 22
    }
   ],
   "source": [
    "df = df.loc[~df.isna().any(axis=1), :]\n",
    "df.head()"
   ]
  },
  {
   "cell_type": "code",
   "execution_count": 25,
   "metadata": {},
   "outputs": [],
   "source": [
    "from sklearn.linear_model import LinearRegression\n",
    "from sklearn.model_selection import KFold, train_test_split\n",
    "from sklearn.preprocessing import StandardScaler\n",
    "from sklearn.metrics import mean_squared_error"
   ]
  },
  {
   "cell_type": "code",
   "execution_count": 27,
   "metadata": {},
   "outputs": [],
   "source": [
    "data = df.drop(columns ='HIVincidence')\n",
    "target = df['HIVincidence']\n",
    "\n",
    "X_train, X_test, Y_train, Y_test = train_test_split(data, target, test_size = 0.25)\n",
    "\n",
    "kf = KFold(n_splits = 5)\n",
    "\n",
    "mean_squared = []\n",
    "\n",
    "for train, test in kf.split(X_train):\n",
    "    x_train = data.iloc[train]\n",
    "    y_train = target.iloc[train]\n",
    "    x_test = data.iloc[test]\n",
    "    y_test = target.iloc[test]\n",
    "    \n",
    "    X_scaler = StandardScaler()\n",
    "    X_scaler.fit(x_train)\n",
    "    \n",
    "    x_train = X_scaler.transform(x_train)\n",
    "    x_test = X_scaler.transform(x_test)\n",
    "\n",
    "    lin_reg = LinearRegression()\n",
    "    lin_reg.fit(x_train, y_train)\n",
    "    \n",
    "    y_hat = lin_reg.predict(x_test)\n",
    "    mean_squared.append(mean_squared_error(y_test, y_hat))"
   ]
  },
  {
   "cell_type": "code",
   "execution_count": 28,
   "metadata": {},
   "outputs": [
    {
     "output_type": "execute_result",
     "data": {
      "text/plain": [
       "[96.4842232380441,\n",
       " 1217.3297194942986,\n",
       " 44.26543396763398,\n",
       " 43.79908260351842,\n",
       " 31.785547452900712]"
      ]
     },
     "metadata": {},
     "execution_count": 28
    }
   ],
   "source": [
    "mean_squared"
   ]
  },
  {
   "cell_type": "code",
   "execution_count": 29,
   "metadata": {},
   "outputs": [],
   "source": [
    "X_test = X_scaler.transform(X_test)\n",
    "dummy = lin_reg.predict(X_test)"
   ]
  },
  {
   "cell_type": "code",
   "execution_count": 31,
   "metadata": {},
   "outputs": [
    {
     "output_type": "execute_result",
     "data": {
      "text/plain": [
       "7.01427713820251"
      ]
     },
     "metadata": {},
     "execution_count": 31
    }
   ],
   "source": [
    "mean_squared_error(Y_test, dummy)**.5"
   ]
  },
  {
   "cell_type": "code",
   "execution_count": 32,
   "metadata": {},
   "outputs": [
    {
     "output_type": "execute_result",
     "data": {
      "text/plain": [
       "array([ 7.01738838,  1.3761661 , -0.53687905,  0.21633748,  0.41819537])"
      ]
     },
     "metadata": {},
     "execution_count": 32
    }
   ],
   "source": [
    "lin_reg.coef_"
   ]
  },
  {
   "cell_type": "code",
   "execution_count": 43,
   "metadata": {},
   "outputs": [
    {
     "output_type": "execute_result",
     "data": {
      "text/plain": [
       "{'copy_X': True,\n",
       " 'fit_intercept': True,\n",
       " 'n_jobs': None,\n",
       " 'normalize': False,\n",
       " 'positive': False}"
      ]
     },
     "metadata": {},
     "execution_count": 43
    }
   ],
   "source": [
    "lin_reg.get_params()"
   ]
  },
  {
   "cell_type": "code",
   "execution_count": null,
   "metadata": {},
   "outputs": [],
   "source": []
  },
  {
   "cell_type": "code",
   "execution_count": 42,
   "metadata": {},
   "outputs": [],
   "source": [
    "# for n in range(0, len(X.columns)-1):\n",
    "#     X.columns[0:len(X.columns)-n]"
   ]
  },
  {
   "cell_type": "code",
   "execution_count": null,
   "metadata": {},
   "outputs": [],
   "source": []
  },
  {
   "cell_type": "code",
   "execution_count": null,
   "metadata": {},
   "outputs": [],
   "source": []
  }
 ]
}